{
 "cells": [
  {
   "cell_type": "markdown",
   "metadata": {},
   "source": [
    "<a id='introduction'></a>\n",
    "<h2>Introduction</h2>\n",
    "<p>\n",
    "    Today we have so many laptops in the market<br>\n",
    "    All with different prices, brands, graphic cards, hard drives types and other specs.<br>\n",
    "    <br>\n",
    "    we thought to our selves what affects on the price the most. is it the brand? is it the graphics card? or is it a simple thing like the type of RAM or hard drive? \n",
    "    <br>\n",
    "    Also, could we predict the price of a laptop based on it's specs? which elemnts are critical for that prediction?\n",
    "    <br>\n",
    "    To answer the following questions we set a goal to our research to see if we can build a model that will predict the price of a laptop based of it's specs and also to figure out which of the specs affect the price the most.\n",
    "</p>"
   ]
  },
  {
   "cell_type": "markdown",
   "metadata": {},
   "source": [
    "<a id='imports'></a>\n",
    "<h2 id=\"imports\">Imports</h2>"
   ]
  },
  {
   "cell_type": "code",
   "execution_count": 562,
   "metadata": {},
   "outputs": [],
   "source": [
    "from bs4 import BeautifulSoup\n",
    "import requests\n",
    "import pandas as pd\n",
    "from random import randint\n",
    "import time\n",
    "from time import sleep\n",
    "from typing import List\n",
    "from sklearn.preprocessing import MinMaxScaler\n",
    "import pandas as pd\n",
    "import numpy as np\n",
    "import seaborn as sns\n",
    "import matplotlib.pyplot as plt\n",
    "from matplotlib import gridspec\n",
    "from sklearn import linear_model, metrics, preprocessing\n",
    "from sklearn.preprocessing import StandardScaler, MinMaxScaler, LabelEncoder\n",
    "from sklearn.linear_model import LogisticRegression, LinearRegression\n",
    "from sklearn.metrics import r2_score, f1_score\n"
   ]
  },
  {
   "cell_type": "markdown",
   "metadata": {},
   "source": [
    "<a id=\"data_acquisition\"></a>\n",
    "<h2>Data Acquisition</h2>\n",
    "<p>Considering our options of data acquisition sources, we decided to look for the biggest electronics comparsion websites and scrape data which we thought will be helpful and save it as a dataframe.\n",
    "\n",
    "The top options we found were:</p>\n",
    "<ul>\n",
    "   <li> <a href=\"https://zap.com/\"target=\"_blank\">Zap</a></li>\n",
    "    <li><a href=\"https://amazon.com/\"target=\"_blank\">Amazon</a></li>\n",
    "    <li><a href=\"https://www.ret.co.il/\"target=\"_blank\">Ret</a></li>\n",
    "    <li><a href=\"https://www.gadgetsnow.com/\"target=\"_blank\">gadgetsnow</a></li>\n",
    "    <li><a href=\"https://www.wisebuy.co.il/\"target=\"_blank\">wisebuy</a></li>\n",
    "</ul>\n",
    "\n",
    "<p>After a punctual search in these websites for relevant data and great community scale, we have decided to move on with Zap due to the popularity of the site and amount of features provided for each laptop.</p>\n",
    "\n",
    "\n"
   ]
  },
  {
   "cell_type": "markdown",
   "metadata": {},
   "source": [
    "<a id='scraping_challanges'></a>\n",
    "<h3>Scraping challanges</h3>\n",
    "<p>While we trying our first attempts to scrape the data from good reads we found out the following issues:<br>\n",
    "    <ul>\n",
    "       <li> When sending too many requests in a short period of time, the website started to slow down and the scraping took a long period of time.</li>\n",
    "        <li>The default user agent used by requests was python: \"requests/2.26.0\" and we were blocked by Zap after a few requests.</li>\n",
    "     </ul>\n",
    "</p>\n",
    "<p> The way we dealed with those issues was by using sleep and a custom header."
   ]
  },
  {
   "cell_type": "markdown",
   "metadata": {},
   "source": [
    "<h3>\n",
    "Some util functions to help scrape the data:\n",
    "</h3>\n",
    "<p>\n",
    "    <ul>\n",
    "        <li>sleepms- function made in order to create a delay so the amount of requests sends to the server in parralel will not affect the scraping performance and other users experience in the website</li>\n",
    "        <li>random_wait- function which is used in order to create random delay so our scraping methodology will not be detected by the servers.</li>\n",
    "       <li> get_fake_user_agent- function which provides us with a non suspectable user agent.</li>"
   ]
  },
  {
   "cell_type": "code",
   "execution_count": 383,
   "metadata": {},
   "outputs": [],
   "source": [
    "def sleepms(milliseconds: int):\n",
    "    seconds = 0.001 * milliseconds\n",
    "    sleep(seconds)\n",
    "    \n",
    "def random_wait():\n",
    "    start = time.time()\n",
    "    sleepms(randint(1, 250))\n",
    "\n",
    "def get_fake_user_agent():\n",
    "    return {\"User-Agent\":\"PostmanRuntime/7.29.0\"}"
   ]
  },
  {
   "cell_type": "code",
   "execution_count": 384,
   "metadata": {},
   "outputs": [],
   "source": [
    "def string_to_number(string: str,replaces: List [str]):\n",
    "    #to be continued\n",
    "    # return number_converter(\"\".join(string.split(\",\")))\n",
    "    pass"
   ]
  },
  {
   "cell_type": "markdown",
   "metadata": {},
   "source": [
    "<a id='scraping_process'></a>\n",
    "<h3>Scraping Process</h3>\n",
    "<p>\n",
    "At first glance at the website we thought to ourselves, just how exactly we want to scrape the data?<br>\n",
    "So went in to the website and started exploring the website in order to find the best route for our scraping proccess.\n",
    "</p>\n",
    "<p>\n",
    "We could clearly see that our best option to get maximum data was in the extra details page which contains huge amount of data.<br>\n",
    "\n",
    "</p>"
   ]
  },
  {
   "cell_type": "markdown",
   "metadata": {},
   "source": [
    "<img src=\"images/extra_details_page.png\"/>"
   ]
  },
  {
   "cell_type": "markdown",
   "metadata": {},
   "source": [
    "</p>\n",
    "At this point we asked ourselves what is the exact data we wish to scrape?<br>\n",
    "\n",
    "we decided to go with the following and rename them for the rest of the process:\n",
    "<ul>\n",
    "    <li>יצרן - Brand</li>\n",
    "    <li>תאריך כניסה לזאפ - Zap Enter Date</li>\n",
    "    <li>התאמה לגיימינג - Gaming Compability</li>\n",
    "    <li>מערכת הפעלה - Operating System</li>\n",
    "    <li>תצורת 2 ב- 1 - Two in One</li>\n",
    "    <li>משקל - Weight</li>\n",
    "    <li>סדרה - Series</li>\n",
    "    <li>סוג מעבד - CPU type</li>\n",
    "    <li>נפח זיכרון RAM - RAM Capacity</li>\n",
    "    <li>מהירות מעבד - CPU speed</li>\n",
    "    <li>דגם מעבד - CPU modal</li>\n",
    "    <li>דור מעבד - CPU generation</li>\n",
    "    <li>כונן קשיח - Hard drive capacity</li>\n",
    "    <li>מהירות כונן קשיח - Hard drive Type</li>\n",
    "    <li>כונן אופטי - Optical Drive</li>\n",
    "    <li>גודל מסך - Screen Size</li>\n",
    "    <li>רזולוצית מסך - Screen Resolution</li>\n",
    "    <li>סוג מסך - Screen Type</li>\n",
    "    <li>קצב ריענון תצוגה - FPS</li>\n",
    "    <li>מסך מגע - Touch Screen</li>\n",
    "    <li>כרטיס מסך - GPU</li>\n",
    "    <li>מצלמת רשת - Web camera</li>\n",
    "    <li>אמצעי אבטחה - Secutiry</li>\n",
    "    <li>חיבורים - Connectors</li>\n",
    "    <li>רשת אלחוטית - Wifi modal</li>\n",
    "    <li>מודם סלולרי - Cellular modem</li>\n",
    "    <li>מחיר מינימלי - Min price</li>\n",
    "    <li>מחיר מקסימלי - Max price</li>\n",
    "</ul>\n",
    "Also, we decided to save the page number in which Zap decided to place the laptop, we figured it has a meaning we could use:\n",
    "<ul>\n",
    "    <li>Page Number</li>\n",
    "</ul>\n"
   ]
  },
  {
   "cell_type": "code",
   "execution_count": 385,
   "metadata": {},
   "outputs": [],
   "source": [
    "def crawl_data(link): \n",
    "    page = requests.get(link, headers = get_fake_user_agent())\n",
    "    soup = BeautifulSoup(page.text, 'html.parser')\n",
    "    links = soup.findAll ('div', {'class' : 'detailsRow'}, limit=None)\n",
    "    titles = ['מחיר מינימלי','מחיר מקסימלי']\n",
    "    spans = soup.find('div','PricesTxt').findAll('span') \n",
    "    if len(spans) == 2:\n",
    "        values = [ spans[1].text, spans[0].text ]\n",
    "    elif len(spans) == 1: \n",
    "        values = [ spans[0].text, spans[0].text ]\n",
    "    else:\n",
    "        values = [ None,None ]\n",
    "    \n",
    "    for i in range(0, len(links)):\n",
    "        titles.append(links[i].find('div','detailsRowTitle').text.replace('?','').strip())\n",
    "        values.append(links[i].find('div','detailsRowTxt').text.strip())\n",
    "\n",
    "\n",
    "    return dict(zip(titles,values))"
   ]
  },
  {
   "cell_type": "code",
   "execution_count": 386,
   "metadata": {},
   "outputs": [],
   "source": [
    "def translate_names(df):\n",
    "    translated_df = pd.DataFrame()\n",
    "    translation = {\n",
    "   \"יצרן\":\"Brand\",\n",
    "   \"תאריך כניסה לזאפ\":\"Zap Enter Date\",\n",
    "   \"התאמה לגיימינג\":\"Gaming Compability\",\n",
    "   \"מערכת הפעלה\":\"Operating System\",\n",
    "   \"תצורת ‎ 2 in 1\":\"Two in One\",\n",
    "   \"משקל\":\"Weight\",\n",
    "   \"סדרה\":\"Series\",\n",
    "   \"סוג מעבד\":\"CPU type\",\n",
    "  \"נפח זיכרון RAM\":\"RAM Capacity\",\n",
    "   \"מהירות מעבד\":\"CPU speed\",\n",
    "   \"דגם מעבד\":\"CPU modal\",\n",
    "   \"דור מעבד\":\"CPU generation\",\n",
    "   \"כונן קשיח\":\"Hard drive capacity\",\n",
    "   \"מהירות כונן קשיח\":\"Hard drive Type\",\n",
    "  \"כונן אופטי\":\"Optical Drive\",\n",
    "   \"גודל מסך\":\"Screen Size\",\n",
    "   \"רזולוציית מסך\":\"Screen Resolution\",\n",
    "   \"סוג מסך\":\"Screen Type\",\n",
    "   \"קצב רענון תצוגה\":\"FPS\",\n",
    "   \"מסך מגע\":\"Touch Screen\",\n",
    "   \"כרטיס מסך\":\"GPU\",\n",
    "   \"מצלמת רשת\":\"Web camera\",\n",
    "   \"אמצעי אבטחה\":\"Secutiry\",\n",
    "   \"חיבורים\":\"Connectors\",\n",
    "   \"רשת אלחוטית\":\"Wifi modal\",\n",
    "   \"מודם סלולארי\":\"Cellular modem\",\n",
    "   \"מחיר מינימלי\":\"Min price\",\n",
    "   \"מחיר מקסימלי\":\"Max price\",\n",
    "   \"Page Number\": \"Page number\",\n",
    "   \"סוג הזכרון\": \"Memory type\"}\n",
    "\n",
    "    for key, value in translation.items():\n",
    "        translated_df[value] = df[key]\n",
    "\n",
    "    return translated_df"
   ]
  },
  {
   "cell_type": "markdown",
   "metadata": {},
   "source": [
    "<h3>Crawling</h3>\n",
    "<p>\n",
    "add more!\n",
    "we used selenium...\n",
    "</p>\n",
    "\n"
   ]
  },
  {
   "cell_type": "code",
   "execution_count": 387,
   "metadata": {},
   "outputs": [],
   "source": [
    "def zap_data_crawl_all(BASE_URL,filename,page):\n",
    "    index = page\n",
    "    df = pd.DataFrame()\n",
    "    url = f'{BASE_URL}models.aspx?sog=c:\"pclaptop&pageinfo={index}'\n",
    "    page = requests.get(url,headers = get_fake_user_agent())\n",
    "    soup = BeautifulSoup(page.text, 'html.parser')\n",
    "    while soup.select_one('.selectedNumBtn') and soup.select_one('.selectedNumBtn').text == str(index):\n",
    "        print(f'page number {index}')\n",
    "        links = soup.findAll ('div', {'class' : 'MoreInfo'}, limit=None)   \n",
    "        for i in range(0, len(links)):\n",
    "            link = BASE_URL + links[i].find('a')[\"href\"]\n",
    "            cd = crawl_data(link)\n",
    "            cd['מספר עמוד'] = index\n",
    "            df = pd.concat([df,pd.DataFrame([cd])])\n",
    "            \n",
    "        index += 1\n",
    "        random_wait()\n",
    "        url = f'{BASE_URL}models.aspx?sog=c:\"pclaptop&pageinfo={index}'\n",
    "        page = requests.get(url,headers = get_fake_user_agent())\n",
    "        soup = BeautifulSoup(page.text, 'html.parser')\n",
    "    translated_df = translate_names(df)\n",
    "    translated_df.to_csv(filename, index=False ,encoding = 'utf:\"8:\"sig')"
   ]
  },
  {
   "cell_type": "code",
   "execution_count": 388,
   "metadata": {},
   "outputs": [],
   "source": [
    "BASE_URL =\"https://www.zap.co.il/\"\n",
    "filename = 'laptops_data.csv'\n",
    "page = 1"
   ]
  },
  {
   "cell_type": "code",
   "execution_count": 389,
   "metadata": {},
   "outputs": [
    {
     "ename": "KeyError",
     "evalue": "'יצרן'",
     "output_type": "error",
     "traceback": [
      "\u001b[1;31m---------------------------------------------------------------------------\u001b[0m",
      "\u001b[1;31mKeyError\u001b[0m                                  Traceback (most recent call last)",
      "File \u001b[1;32mc:\\Python39\\lib\\site-packages\\pandas\\core\\indexes\\base.py:3621\u001b[0m, in \u001b[0;36mIndex.get_loc\u001b[1;34m(self, key, method, tolerance)\u001b[0m\n\u001b[0;32m   3620\u001b[0m \u001b[39mtry\u001b[39;00m:\n\u001b[1;32m-> 3621\u001b[0m     \u001b[39mreturn\u001b[39;00m \u001b[39mself\u001b[39;49m\u001b[39m.\u001b[39;49m_engine\u001b[39m.\u001b[39;49mget_loc(casted_key)\n\u001b[0;32m   3622\u001b[0m \u001b[39mexcept\u001b[39;00m \u001b[39mKeyError\u001b[39;00m \u001b[39mas\u001b[39;00m err:\n",
      "File \u001b[1;32mc:\\Python39\\lib\\site-packages\\pandas\\_libs\\index.pyx:136\u001b[0m, in \u001b[0;36mpandas._libs.index.IndexEngine.get_loc\u001b[1;34m()\u001b[0m\n",
      "File \u001b[1;32mc:\\Python39\\lib\\site-packages\\pandas\\_libs\\index.pyx:163\u001b[0m, in \u001b[0;36mpandas._libs.index.IndexEngine.get_loc\u001b[1;34m()\u001b[0m\n",
      "File \u001b[1;32mpandas\\_libs\\hashtable_class_helper.pxi:5198\u001b[0m, in \u001b[0;36mpandas._libs.hashtable.PyObjectHashTable.get_item\u001b[1;34m()\u001b[0m\n",
      "File \u001b[1;32mpandas\\_libs\\hashtable_class_helper.pxi:5206\u001b[0m, in \u001b[0;36mpandas._libs.hashtable.PyObjectHashTable.get_item\u001b[1;34m()\u001b[0m\n",
      "\u001b[1;31mKeyError\u001b[0m: 'יצרן'",
      "\nThe above exception was the direct cause of the following exception:\n",
      "\u001b[1;31mKeyError\u001b[0m                                  Traceback (most recent call last)",
      "\u001b[1;32mc:\\Users\\Chen\\Desktop\\ZapDataScience\\new_25_06.ipynb Cell 17'\u001b[0m in \u001b[0;36m<cell line: 1>\u001b[1;34m()\u001b[0m\n\u001b[1;32m----> <a href='vscode-notebook-cell:/c%3A/Users/Chen/Desktop/ZapDataScience/new_25_06.ipynb#ch0000024?line=0'>1</a>\u001b[0m zap_data_crawl_all(BASE_URL, filename, page)\n",
      "\u001b[1;32mc:\\Users\\Chen\\Desktop\\ZapDataScience\\new_25_06.ipynb Cell 15'\u001b[0m in \u001b[0;36mzap_data_crawl_all\u001b[1;34m(BASE_URL, filename, page)\u001b[0m\n\u001b[0;32m     <a href='vscode-notebook-cell:/c%3A/Users/Chen/Desktop/ZapDataScience/new_25_06.ipynb#ch0000014?line=18'>19</a>\u001b[0m     page \u001b[39m=\u001b[39m requests\u001b[39m.\u001b[39mget(url,headers \u001b[39m=\u001b[39m get_fake_user_agent())\n\u001b[0;32m     <a href='vscode-notebook-cell:/c%3A/Users/Chen/Desktop/ZapDataScience/new_25_06.ipynb#ch0000014?line=19'>20</a>\u001b[0m     soup \u001b[39m=\u001b[39m BeautifulSoup(page\u001b[39m.\u001b[39mtext, \u001b[39m'\u001b[39m\u001b[39mhtml.parser\u001b[39m\u001b[39m'\u001b[39m)\n\u001b[1;32m---> <a href='vscode-notebook-cell:/c%3A/Users/Chen/Desktop/ZapDataScience/new_25_06.ipynb#ch0000014?line=20'>21</a>\u001b[0m translated_df \u001b[39m=\u001b[39m translate_names(df)\n\u001b[0;32m     <a href='vscode-notebook-cell:/c%3A/Users/Chen/Desktop/ZapDataScience/new_25_06.ipynb#ch0000014?line=21'>22</a>\u001b[0m translated_df\u001b[39m.\u001b[39mto_csv(filename, index\u001b[39m=\u001b[39m\u001b[39mFalse\u001b[39;00m ,encoding \u001b[39m=\u001b[39m \u001b[39m'\u001b[39m\u001b[39mutf:\u001b[39m\u001b[39m\"\u001b[39m\u001b[39m8:\u001b[39m\u001b[39m\"\u001b[39m\u001b[39msig\u001b[39m\u001b[39m'\u001b[39m)\n",
      "\u001b[1;32mc:\\Users\\Chen\\Desktop\\ZapDataScience\\new_25_06.ipynb Cell 13'\u001b[0m in \u001b[0;36mtranslate_names\u001b[1;34m(df)\u001b[0m\n\u001b[0;32m      <a href='vscode-notebook-cell:/c%3A/Users/Chen/Desktop/ZapDataScience/new_25_06.ipynb#ch0000012?line=2'>3</a>\u001b[0m  translation \u001b[39m=\u001b[39m {\n\u001b[0;32m      <a href='vscode-notebook-cell:/c%3A/Users/Chen/Desktop/ZapDataScience/new_25_06.ipynb#ch0000012?line=3'>4</a>\u001b[0m \u001b[39m\"\u001b[39m\u001b[39mיצרן\u001b[39m\u001b[39m\"\u001b[39m:\u001b[39m\"\u001b[39m\u001b[39mBrand\u001b[39m\u001b[39m\"\u001b[39m,\n\u001b[0;32m      <a href='vscode-notebook-cell:/c%3A/Users/Chen/Desktop/ZapDataScience/new_25_06.ipynb#ch0000012?line=4'>5</a>\u001b[0m \u001b[39m\"\u001b[39m\u001b[39mתאריך כניסה לזאפ\u001b[39m\u001b[39m\"\u001b[39m:\u001b[39m\"\u001b[39m\u001b[39mZap Enter Date\u001b[39m\u001b[39m\"\u001b[39m,\n\u001b[1;32m   (...)\u001b[0m\n\u001b[0;32m     <a href='vscode-notebook-cell:/c%3A/Users/Chen/Desktop/ZapDataScience/new_25_06.ipynb#ch0000012?line=31'>32</a>\u001b[0m \u001b[39m\"\u001b[39m\u001b[39mPage Number\u001b[39m\u001b[39m\"\u001b[39m: \u001b[39m\"\u001b[39m\u001b[39mPage number\u001b[39m\u001b[39m\"\u001b[39m,\n\u001b[0;32m     <a href='vscode-notebook-cell:/c%3A/Users/Chen/Desktop/ZapDataScience/new_25_06.ipynb#ch0000012?line=32'>33</a>\u001b[0m \u001b[39m\"\u001b[39m\u001b[39mסוג הזכרון\u001b[39m\u001b[39m\"\u001b[39m: \u001b[39m\"\u001b[39m\u001b[39mMemory type\u001b[39m\u001b[39m\"\u001b[39m}\n\u001b[0;32m     <a href='vscode-notebook-cell:/c%3A/Users/Chen/Desktop/ZapDataScience/new_25_06.ipynb#ch0000012?line=34'>35</a>\u001b[0m  \u001b[39mfor\u001b[39;00m key, value \u001b[39min\u001b[39;00m translation\u001b[39m.\u001b[39mitems():\n\u001b[1;32m---> <a href='vscode-notebook-cell:/c%3A/Users/Chen/Desktop/ZapDataScience/new_25_06.ipynb#ch0000012?line=35'>36</a>\u001b[0m      translated_df[value] \u001b[39m=\u001b[39m df[key]\n\u001b[0;32m     <a href='vscode-notebook-cell:/c%3A/Users/Chen/Desktop/ZapDataScience/new_25_06.ipynb#ch0000012?line=37'>38</a>\u001b[0m  \u001b[39mreturn\u001b[39;00m translated_df\n",
      "File \u001b[1;32mc:\\Python39\\lib\\site-packages\\pandas\\core\\frame.py:3505\u001b[0m, in \u001b[0;36mDataFrame.__getitem__\u001b[1;34m(self, key)\u001b[0m\n\u001b[0;32m   3503\u001b[0m \u001b[39mif\u001b[39;00m \u001b[39mself\u001b[39m\u001b[39m.\u001b[39mcolumns\u001b[39m.\u001b[39mnlevels \u001b[39m>\u001b[39m \u001b[39m1\u001b[39m:\n\u001b[0;32m   3504\u001b[0m     \u001b[39mreturn\u001b[39;00m \u001b[39mself\u001b[39m\u001b[39m.\u001b[39m_getitem_multilevel(key)\n\u001b[1;32m-> 3505\u001b[0m indexer \u001b[39m=\u001b[39m \u001b[39mself\u001b[39;49m\u001b[39m.\u001b[39;49mcolumns\u001b[39m.\u001b[39;49mget_loc(key)\n\u001b[0;32m   3506\u001b[0m \u001b[39mif\u001b[39;00m is_integer(indexer):\n\u001b[0;32m   3507\u001b[0m     indexer \u001b[39m=\u001b[39m [indexer]\n",
      "File \u001b[1;32mc:\\Python39\\lib\\site-packages\\pandas\\core\\indexes\\base.py:3623\u001b[0m, in \u001b[0;36mIndex.get_loc\u001b[1;34m(self, key, method, tolerance)\u001b[0m\n\u001b[0;32m   3621\u001b[0m     \u001b[39mreturn\u001b[39;00m \u001b[39mself\u001b[39m\u001b[39m.\u001b[39m_engine\u001b[39m.\u001b[39mget_loc(casted_key)\n\u001b[0;32m   3622\u001b[0m \u001b[39mexcept\u001b[39;00m \u001b[39mKeyError\u001b[39;00m \u001b[39mas\u001b[39;00m err:\n\u001b[1;32m-> 3623\u001b[0m     \u001b[39mraise\u001b[39;00m \u001b[39mKeyError\u001b[39;00m(key) \u001b[39mfrom\u001b[39;00m \u001b[39merr\u001b[39;00m\n\u001b[0;32m   3624\u001b[0m \u001b[39mexcept\u001b[39;00m \u001b[39mTypeError\u001b[39;00m:\n\u001b[0;32m   3625\u001b[0m     \u001b[39m# If we have a listlike key, _check_indexing_error will raise\u001b[39;00m\n\u001b[0;32m   3626\u001b[0m     \u001b[39m#  InvalidIndexError. Otherwise we fall through and re-raise\u001b[39;00m\n\u001b[0;32m   3627\u001b[0m     \u001b[39m#  the TypeError.\u001b[39;00m\n\u001b[0;32m   3628\u001b[0m     \u001b[39mself\u001b[39m\u001b[39m.\u001b[39m_check_indexing_error(key)\n",
      "\u001b[1;31mKeyError\u001b[0m: 'יצרן'"
     ]
    }
   ],
   "source": [
    "zap_data_crawl_all(BASE_URL, filename, page)"
   ]
  },
  {
   "cell_type": "markdown",
   "metadata": {},
   "source": [
    "<a id='data_scraped'></a>\n",
    "<h3>Let's check how much data did we scrape before we start cleaning it (if needed)</h3>"
   ]
  },
  {
   "cell_type": "code",
   "execution_count": 595,
   "metadata": {},
   "outputs": [
    {
     "name": "stdout",
     "output_type": "stream",
     "text": [
      "df shape:(3112, 30)\n",
      "data amount before cleaning: 93,360 (rows * cols)\n"
     ]
    },
    {
     "data": {
      "text/html": [
       "<div>\n",
       "<style scoped>\n",
       "    .dataframe tbody tr th:only-of-type {\n",
       "        vertical-align: middle;\n",
       "    }\n",
       "\n",
       "    .dataframe tbody tr th {\n",
       "        vertical-align: top;\n",
       "    }\n",
       "\n",
       "    .dataframe thead th {\n",
       "        text-align: right;\n",
       "    }\n",
       "</style>\n",
       "<table border=\"1\" class=\"dataframe\">\n",
       "  <thead>\n",
       "    <tr style=\"text-align: right;\">\n",
       "      <th></th>\n",
       "      <th>Brand</th>\n",
       "      <th>Zap Enter Date</th>\n",
       "      <th>Gaming Compability</th>\n",
       "      <th>Operating System</th>\n",
       "      <th>Two in One</th>\n",
       "      <th>Weight</th>\n",
       "      <th>Series</th>\n",
       "      <th>CPU type</th>\n",
       "      <th>RAM Capacity</th>\n",
       "      <th>CPU speed</th>\n",
       "      <th>...</th>\n",
       "      <th>GPU</th>\n",
       "      <th>Web camera</th>\n",
       "      <th>Secutiry</th>\n",
       "      <th>Connectors</th>\n",
       "      <th>Wifi modal</th>\n",
       "      <th>Cellular modem</th>\n",
       "      <th>Min price</th>\n",
       "      <th>Max price</th>\n",
       "      <th>Page number</th>\n",
       "      <th>Memory type</th>\n",
       "    </tr>\n",
       "  </thead>\n",
       "  <tbody>\n",
       "    <tr>\n",
       "      <th>0</th>\n",
       "      <td>Apple</td>\n",
       "      <td>2021</td>\n",
       "      <td>גיימינג</td>\n",
       "      <td>MacOS</td>\n",
       "      <td>ללא</td>\n",
       "      <td>1.29 ק\"ג</td>\n",
       "      <td>MacBook Air</td>\n",
       "      <td>M1</td>\n",
       "      <td>8 GB</td>\n",
       "      <td>לא זמין</td>\n",
       "      <td>...</td>\n",
       "      <td>לא זמין</td>\n",
       "      <td>1 מגה פיקסל</td>\n",
       "      <td>קורא טביעות אצבע</td>\n",
       "      <td>DisplayPort , Thunderbolt , USB-C , Bluetooth ...</td>\n",
       "      <td>WiFi 6 , 802.11ax</td>\n",
       "      <td>לא כולל</td>\n",
       "      <td>3,698</td>\n",
       "      <td>5,108</td>\n",
       "      <td>1</td>\n",
       "      <td>לא זמין</td>\n",
       "    </tr>\n",
       "    <tr>\n",
       "      <th>1</th>\n",
       "      <td>Lenovo</td>\n",
       "      <td>2021</td>\n",
       "      <td>גיימינג</td>\n",
       "      <td>ללא</td>\n",
       "      <td>ללא</td>\n",
       "      <td>1.85 ק\"ג</td>\n",
       "      <td>V14 ADA</td>\n",
       "      <td>AMD</td>\n",
       "      <td>4 GB</td>\n",
       "      <td>לא זמין</td>\n",
       "      <td>...</td>\n",
       "      <td>Integrated AMD Radeon Graphics</td>\n",
       "      <td>לא זמין</td>\n",
       "      <td>לא כולל</td>\n",
       "      <td>Card Reader , אוזניות/מיקרופון , HDMI , Blueto...</td>\n",
       "      <td>802.11ac</td>\n",
       "      <td>לא כולל</td>\n",
       "      <td>970</td>\n",
       "      <td>1,970</td>\n",
       "      <td>1</td>\n",
       "      <td>DDR4</td>\n",
       "    </tr>\n",
       "    <tr>\n",
       "      <th>2</th>\n",
       "      <td>Lenovo</td>\n",
       "      <td>מ 2022</td>\n",
       "      <td>גיימינג</td>\n",
       "      <td>ללא</td>\n",
       "      <td>ללא</td>\n",
       "      <td>1.7 ק\"ג</td>\n",
       "      <td>ThinkBook 15 G2</td>\n",
       "      <td>Intel Core i7</td>\n",
       "      <td>16 GB</td>\n",
       "      <td>2800Mhz</td>\n",
       "      <td>...</td>\n",
       "      <td>Integrated Intel Iris Xe Graphics</td>\n",
       "      <td>1 מגה פיקסל</td>\n",
       "      <td>לא כולל</td>\n",
       "      <td>RJ-45 , DisplayPort , Thunderbolt , Card Reade...</td>\n",
       "      <td>WiFi 6 , 802.11ax</td>\n",
       "      <td>לא כולל</td>\n",
       "      <td>2,849</td>\n",
       "      <td>3,820</td>\n",
       "      <td>1</td>\n",
       "      <td>DDR4</td>\n",
       "    </tr>\n",
       "    <tr>\n",
       "      <th>3</th>\n",
       "      <td>Asus</td>\n",
       "      <td>2021</td>\n",
       "      <td>גיימינג</td>\n",
       "      <td>ללא</td>\n",
       "      <td>ללא</td>\n",
       "      <td>1.8 ק\"ג</td>\n",
       "      <td>לא רלוונטי</td>\n",
       "      <td>Intel Core i3</td>\n",
       "      <td>16 GB</td>\n",
       "      <td>3000Mhz</td>\n",
       "      <td>...</td>\n",
       "      <td>Intel Iris Xe Graphics</td>\n",
       "      <td>כולל</td>\n",
       "      <td>לא כולל</td>\n",
       "      <td>אוזניות/מיקרופון , USB-C , HDMI , Bluetooth , USB</td>\n",
       "      <td>802.11ac</td>\n",
       "      <td>לא כולל</td>\n",
       "      <td>1,599</td>\n",
       "      <td>2,263</td>\n",
       "      <td>1</td>\n",
       "      <td>DDR4</td>\n",
       "    </tr>\n",
       "    <tr>\n",
       "      <th>4</th>\n",
       "      <td>Apple</td>\n",
       "      <td>2021</td>\n",
       "      <td>גיימינג</td>\n",
       "      <td>MacOS</td>\n",
       "      <td>ללא</td>\n",
       "      <td>1.6 ק\"ג</td>\n",
       "      <td>MacBook Pro</td>\n",
       "      <td>M1</td>\n",
       "      <td>16 GB</td>\n",
       "      <td>לא זמין</td>\n",
       "      <td>...</td>\n",
       "      <td>לא זמין</td>\n",
       "      <td>כולל</td>\n",
       "      <td>קורא טביעות אצבע</td>\n",
       "      <td>DisplayPort , Thunderbolt , אוזניות/מיקרופון ,...</td>\n",
       "      <td>WiFi 6 , 802.11ax</td>\n",
       "      <td>לא כולל</td>\n",
       "      <td>7,421</td>\n",
       "      <td>8,166</td>\n",
       "      <td>1</td>\n",
       "      <td>לא זמין</td>\n",
       "    </tr>\n",
       "    <tr>\n",
       "      <th>5</th>\n",
       "      <td>Lenovo</td>\n",
       "      <td>2020</td>\n",
       "      <td>גיימינג</td>\n",
       "      <td>ללא</td>\n",
       "      <td>ללא</td>\n",
       "      <td>1.6 ק\"ג</td>\n",
       "      <td>לא רלוונטי</td>\n",
       "      <td>AMD</td>\n",
       "      <td>4 GB</td>\n",
       "      <td>1200Mhz</td>\n",
       "      <td>...</td>\n",
       "      <td>Integrated AMD Radeon Graphics</td>\n",
       "      <td>כולל</td>\n",
       "      <td>לא כולל</td>\n",
       "      <td>Card Reader , אוזניות/מיקרופון , HDMI , Blueto...</td>\n",
       "      <td>802.11ac</td>\n",
       "      <td>לא כולל</td>\n",
       "      <td>815</td>\n",
       "      <td>1,710</td>\n",
       "      <td>1</td>\n",
       "      <td>DDR4</td>\n",
       "    </tr>\n",
       "    <tr>\n",
       "      <th>6</th>\n",
       "      <td>Lenovo</td>\n",
       "      <td>מ 2022</td>\n",
       "      <td>גיימינג</td>\n",
       "      <td>Windows 11 Home</td>\n",
       "      <td>מסך מסתובב</td>\n",
       "      <td>1.5 ק\"ג</td>\n",
       "      <td>IdeaPad Flex 5</td>\n",
       "      <td>Intel Core i5</td>\n",
       "      <td>8 GB</td>\n",
       "      <td>2400Mhz</td>\n",
       "      <td>...</td>\n",
       "      <td>Integrated Intel Iris Xe Graphics</td>\n",
       "      <td>1 מגה פיקסל</td>\n",
       "      <td>קורא טביעות אצבע</td>\n",
       "      <td>Card Reader , אוזניות/מיקרופון , USB-C , HDMI ...</td>\n",
       "      <td>802.11ax</td>\n",
       "      <td>לא כולל</td>\n",
       "      <td>2,699</td>\n",
       "      <td>3,519</td>\n",
       "      <td>1</td>\n",
       "      <td>DDR4</td>\n",
       "    </tr>\n",
       "    <tr>\n",
       "      <th>7</th>\n",
       "      <td>Asus</td>\n",
       "      <td>2021</td>\n",
       "      <td>גיימינג</td>\n",
       "      <td>Windows 10 PRO</td>\n",
       "      <td>ללא</td>\n",
       "      <td>1.2 ק\"ג</td>\n",
       "      <td>לא רלוונטי</td>\n",
       "      <td>Intel Celeron</td>\n",
       "      <td>4 GB</td>\n",
       "      <td>1100Mhz</td>\n",
       "      <td>...</td>\n",
       "      <td>לא זמין</td>\n",
       "      <td>כולל</td>\n",
       "      <td>לא זמין</td>\n",
       "      <td>Card Reader , אוזניות/מיקרופון , HDMI , Blueto...</td>\n",
       "      <td>802.11ac</td>\n",
       "      <td>לא כולל</td>\n",
       "      <td>865</td>\n",
       "      <td>1,290</td>\n",
       "      <td>1</td>\n",
       "      <td>DDR3</td>\n",
       "    </tr>\n",
       "    <tr>\n",
       "      <th>8</th>\n",
       "      <td>Apple</td>\n",
       "      <td>2021</td>\n",
       "      <td>גיימינג</td>\n",
       "      <td>MacOS</td>\n",
       "      <td>ללא</td>\n",
       "      <td>1.29 ק\"ג</td>\n",
       "      <td>MacBook Air</td>\n",
       "      <td>M1</td>\n",
       "      <td>16 GB</td>\n",
       "      <td>לא זמין</td>\n",
       "      <td>...</td>\n",
       "      <td>לא זמין</td>\n",
       "      <td>1 מגה פיקסל</td>\n",
       "      <td>לא כולל</td>\n",
       "      <td>DisplayPort , Thunderbolt , אוזניות/מיקרופון ,...</td>\n",
       "      <td>כולל</td>\n",
       "      <td>לא כולל</td>\n",
       "      <td>4,506</td>\n",
       "      <td>4,998</td>\n",
       "      <td>1</td>\n",
       "      <td>לא זמין</td>\n",
       "    </tr>\n",
       "    <tr>\n",
       "      <th>9</th>\n",
       "      <td>Apple</td>\n",
       "      <td>2021</td>\n",
       "      <td>גיימינג</td>\n",
       "      <td>MacOS</td>\n",
       "      <td>ללא</td>\n",
       "      <td>1.4 ק\"ג</td>\n",
       "      <td>MacBook Pro</td>\n",
       "      <td>M1</td>\n",
       "      <td>8 GB</td>\n",
       "      <td>לא זמין</td>\n",
       "      <td>...</td>\n",
       "      <td>לא זמין</td>\n",
       "      <td>1 מגה פיקסל</td>\n",
       "      <td>קורא טביעות אצבע</td>\n",
       "      <td>Thunderbolt , אוזניות/מיקרופון , USB-C , Bluet...</td>\n",
       "      <td>WiFi 6 , 802.11ax</td>\n",
       "      <td>לא כולל</td>\n",
       "      <td>4,849</td>\n",
       "      <td>5,548</td>\n",
       "      <td>1</td>\n",
       "      <td>לא זמין</td>\n",
       "    </tr>\n",
       "  </tbody>\n",
       "</table>\n",
       "<p>10 rows × 30 columns</p>\n",
       "</div>"
      ],
      "text/plain": [
       "    Brand Zap Enter Date Gaming Compability Operating System  Two in One  \\\n",
       "0   Apple           2021            גיימינג            MacOS         ללא   \n",
       "1  Lenovo           2021            גיימינג              ללא         ללא   \n",
       "2  Lenovo         מ 2022            גיימינג              ללא         ללא   \n",
       "3    Asus           2021            גיימינג              ללא         ללא   \n",
       "4   Apple           2021            גיימינג            MacOS         ללא   \n",
       "5  Lenovo           2020            גיימינג              ללא         ללא   \n",
       "6  Lenovo         מ 2022            גיימינג  Windows 11 Home  מסך מסתובב   \n",
       "7    Asus           2021            גיימינג   Windows 10 PRO         ללא   \n",
       "8   Apple           2021            גיימינג            MacOS         ללא   \n",
       "9   Apple           2021            גיימינג            MacOS         ללא   \n",
       "\n",
       "     Weight           Series       CPU type RAM Capacity CPU speed  ...  \\\n",
       "0  1.29 ק\"ג      MacBook Air             M1         8 GB   לא זמין  ...   \n",
       "1  1.85 ק\"ג          V14 ADA            AMD         4 GB   לא זמין  ...   \n",
       "2   1.7 ק\"ג  ThinkBook 15 G2  Intel Core i7        16 GB   2800Mhz  ...   \n",
       "3   1.8 ק\"ג       לא רלוונטי  Intel Core i3        16 GB   3000Mhz  ...   \n",
       "4   1.6 ק\"ג      MacBook Pro             M1        16 GB   לא זמין  ...   \n",
       "5   1.6 ק\"ג       לא רלוונטי            AMD         4 GB   1200Mhz  ...   \n",
       "6   1.5 ק\"ג   IdeaPad Flex 5  Intel Core i5         8 GB   2400Mhz  ...   \n",
       "7   1.2 ק\"ג       לא רלוונטי  Intel Celeron         4 GB   1100Mhz  ...   \n",
       "8  1.29 ק\"ג      MacBook Air             M1        16 GB   לא זמין  ...   \n",
       "9   1.4 ק\"ג      MacBook Pro             M1         8 GB   לא זמין  ...   \n",
       "\n",
       "                                 GPU   Web camera          Secutiry  \\\n",
       "0                            לא זמין  1 מגה פיקסל  קורא טביעות אצבע   \n",
       "1     Integrated AMD Radeon Graphics      לא זמין           לא כולל   \n",
       "2  Integrated Intel Iris Xe Graphics  1 מגה פיקסל           לא כולל   \n",
       "3             Intel Iris Xe Graphics         כולל           לא כולל   \n",
       "4                            לא זמין         כולל  קורא טביעות אצבע   \n",
       "5     Integrated AMD Radeon Graphics         כולל           לא כולל   \n",
       "6  Integrated Intel Iris Xe Graphics  1 מגה פיקסל  קורא טביעות אצבע   \n",
       "7                            לא זמין         כולל           לא זמין   \n",
       "8                            לא זמין  1 מגה פיקסל           לא כולל   \n",
       "9                            לא זמין  1 מגה פיקסל  קורא טביעות אצבע   \n",
       "\n",
       "                                          Connectors         Wifi modal  \\\n",
       "0  DisplayPort , Thunderbolt , USB-C , Bluetooth ...  WiFi 6 , 802.11ax   \n",
       "1  Card Reader , אוזניות/מיקרופון , HDMI , Blueto...           802.11ac   \n",
       "2  RJ-45 , DisplayPort , Thunderbolt , Card Reade...  WiFi 6 , 802.11ax   \n",
       "3  אוזניות/מיקרופון , USB-C , HDMI , Bluetooth , USB           802.11ac   \n",
       "4  DisplayPort , Thunderbolt , אוזניות/מיקרופון ,...  WiFi 6 , 802.11ax   \n",
       "5  Card Reader , אוזניות/מיקרופון , HDMI , Blueto...           802.11ac   \n",
       "6  Card Reader , אוזניות/מיקרופון , USB-C , HDMI ...           802.11ax   \n",
       "7  Card Reader , אוזניות/מיקרופון , HDMI , Blueto...           802.11ac   \n",
       "8  DisplayPort , Thunderbolt , אוזניות/מיקרופון ,...               כולל   \n",
       "9  Thunderbolt , אוזניות/מיקרופון , USB-C , Bluet...  WiFi 6 , 802.11ax   \n",
       "\n",
       "  Cellular modem Min price Max price Page number Memory type  \n",
       "0        לא כולל     3,698     5,108           1     לא זמין  \n",
       "1        לא כולל       970     1,970           1        DDR4  \n",
       "2        לא כולל     2,849     3,820           1        DDR4  \n",
       "3        לא כולל     1,599     2,263           1        DDR4  \n",
       "4        לא כולל     7,421     8,166           1     לא זמין  \n",
       "5        לא כולל       815     1,710           1        DDR4  \n",
       "6        לא כולל     2,699     3,519           1        DDR4  \n",
       "7        לא כולל       865     1,290           1        DDR3  \n",
       "8        לא כולל     4,506     4,998           1     לא זמין  \n",
       "9        לא כולל     4,849     5,548           1     לא זמין  \n",
       "\n",
       "[10 rows x 30 columns]"
      ]
     },
     "execution_count": 595,
     "metadata": {},
     "output_type": "execute_result"
    }
   ],
   "source": [
    "laptops_df = pd.read_csv(filename)\n",
    "print(f\"df shape:{laptops_df.shape}\")\n",
    "print(f\"data amount before cleaning: {'{:,}'.format(laptops_df.shape[0] * laptops_df.shape[1])} (rows * cols)\")\n",
    "laptops_df.head(10)"
   ]
  },
  {
   "cell_type": "markdown",
   "metadata": {},
   "source": [
    "<a id='data_cleaning'></a>\n",
    "<h2>Data Cleaning</h2>\n"
   ]
  },
  {
   "cell_type": "markdown",
   "metadata": {},
   "source": [
    "<h3>Turning Zap's NA's to real NA's</h3>"
   ]
  },
  {
   "cell_type": "code",
   "execution_count": 596,
   "metadata": {},
   "outputs": [],
   "source": [
    "laptops_real_na = laptops_df.copy()\n",
    "for col in laptops_real_na:\n",
    "    laptops_real_na.loc[(laptops_real_na[col] == 'לא זמין') | (laptops_real_na[col] == 'יעודכן בקרוב') | (laptops_real_na[\"Memory type\"] == \"לא רלוונטי\"), col] = None "
   ]
  },
  {
   "cell_type": "markdown",
   "metadata": {},
   "source": [
    "<h3>Cleaning and converting to numeric</h3>"
   ]
  },
  {
   "cell_type": "code",
   "execution_count": 597,
   "metadata": {},
   "outputs": [],
   "source": [
    "def cleaning_and_converting(df):\n",
    "    df['Zap Enter Date'] = pd.to_numeric(df['Zap Enter Date'].str.replace('מ','').str.replace('עד','').str.strip())\n",
    "    df['RAM Capacity'] = pd.to_numeric(df['RAM Capacity'].str.replace('GB','').str.strip())\n",
    "    df['CPU speed'] = pd.to_numeric(df['CPU speed'].str.replace('Mhz','').str.replace('MHz','').str.strip())\n",
    "    df['CPU generation'] = pd.to_numeric(df['CPU generation'].str.replace('דור','').str.strip())\n",
    "    df['Screen Size'] = pd.to_numeric(df['Screen Size'].str.replace('אינטש','').str.strip())\n",
    "    df[\"FPS\"] = pd.to_numeric(df[\"FPS\"].str.lower().str.replace('hz','').str.strip())\n",
    "    \n",
    "    df[\"Memory type\"] = pd.to_numeric(df[\"Memory type\"].str.replace('DDR','').str.strip())\n",
    "    \n",
    "    df['Hard drive capacity'] = df['Hard drive capacity'].str.replace('GB','').str.strip()\n",
    "    for i in range(len(df['Hard drive capacity'])):\n",
    "        if not df.loc[i, 'Hard drive capacity']:\n",
    "            continue\n",
    "        arr = df.loc[i, 'Hard drive capacity'].replace(\",\",\"+\").split(\"+\")\n",
    "        if len(arr) > 1:\n",
    "            sum = 0\n",
    "            for num in arr:\n",
    "                sum += int(num)\n",
    "            df.loc[i, 'Hard drive capacity'] = sum\n",
    "        else:\n",
    "            df.loc[i, 'Hard drive capacity'] = int(arr[0])\n",
    "\n",
    "    \n",
    "    df['Screen Resolution'] = df['Screen Resolution'].str.replace('X','x')\n",
    "    df['Weight'] = df['Weight'].str.replace('ק\"ג','').str.strip()\n",
    "    df['Weight']= pd.to_numeric(df['Weight'])\n",
    "    \n",
    "    df['Max price'] = pd.to_numeric(df['Max price'].str.replace(',',''))\n",
    "    df['Min price'] = pd.to_numeric(df['Min price'].str.replace(',','' ))\n",
    "\n",
    "cleaning_and_converting(laptops_real_na)\n"
   ]
  },
  {
   "cell_type": "markdown",
   "metadata": {},
   "source": [
    "<h3>Converting to Categorical</h3>"
   ]
  },
  {
   "cell_type": "code",
   "execution_count": 598,
   "metadata": {},
   "outputs": [],
   "source": [
    "laptops_real_na[\"Touch Screen\"] =  np.where(laptops_real_na['Touch Screen']  == \"כולל\" , 1 , 0)"
   ]
  },
  {
   "cell_type": "markdown",
   "metadata": {},
   "source": [
    "<h3>Removing Duplicates</h3>"
   ]
  },
  {
   "cell_type": "code",
   "execution_count": 599,
   "metadata": {},
   "outputs": [],
   "source": [
    "laptops_no_dup = laptops_real_na[~laptops_real_na.duplicated()]\n"
   ]
  },
  {
   "cell_type": "markdown",
   "metadata": {},
   "source": [
    "<p>Lets see how many rows did we lose and the NA count:</p>"
   ]
  },
  {
   "cell_type": "code",
   "execution_count": 600,
   "metadata": {},
   "outputs": [
    {
     "name": "stdout",
     "output_type": "stream",
     "text": [
      "<class 'pandas.core.frame.DataFrame'>\n",
      "Int64Index: 3111 entries, 0 to 3111\n",
      "Data columns (total 30 columns):\n",
      " #   Column               Non-Null Count  Dtype  \n",
      "---  ------               --------------  -----  \n",
      " 0   Brand                3110 non-null   object \n",
      " 1   Zap Enter Date       3110 non-null   float64\n",
      " 2   Gaming Compability   2833 non-null   object \n",
      " 3   Operating System     2836 non-null   object \n",
      " 4   Two in One           2825 non-null   object \n",
      " 5   Weight               2809 non-null   float64\n",
      " 6   Series               2780 non-null   object \n",
      " 7   CPU type             2856 non-null   object \n",
      " 8   RAM Capacity         2864 non-null   float64\n",
      " 9   CPU speed            2695 non-null   float64\n",
      " 10  CPU model            2760 non-null   object \n",
      " 11  CPU generation       2739 non-null   float64\n",
      " 12  Hard drive capacity  2867 non-null   object \n",
      " 13  Hard drive Type      2810 non-null   object \n",
      " 14  Optical Drive        2825 non-null   object \n",
      " 15  Screen Size          2862 non-null   float64\n",
      " 16  Screen Resolution    2749 non-null   object \n",
      " 17  Screen Type          2746 non-null   object \n",
      " 18  FPS                  2731 non-null   float64\n",
      " 19  Touch Screen         3111 non-null   int32  \n",
      " 20  GPU                  2764 non-null   object \n",
      " 21  Web camera           2742 non-null   object \n",
      " 22  Secutiry             2757 non-null   object \n",
      " 23  Connectors           2823 non-null   object \n",
      " 24  Wifi modal           2780 non-null   object \n",
      " 25  Cellular modem       2823 non-null   object \n",
      " 26  Min price            3110 non-null   float64\n",
      " 27  Max price            3110 non-null   float64\n",
      " 28  Page number          3110 non-null   float64\n",
      " 29  Memory type          2636 non-null   float64\n",
      "dtypes: float64(11), int32(1), object(18)\n",
      "memory usage: 741.3+ KB\n"
     ]
    }
   ],
   "source": [
    "laptops_no_dup.info()\n"
   ]
  },
  {
   "cell_type": "markdown",
   "metadata": {},
   "source": [
    "<p>It looks like we didn't have any duplicates. so lets continue reviewing the NA's:</p>"
   ]
  },
  {
   "cell_type": "code",
   "execution_count": 601,
   "metadata": {},
   "outputs": [
    {
     "data": {
      "text/html": [
       "<div>\n",
       "<style scoped>\n",
       "    .dataframe tbody tr th:only-of-type {\n",
       "        vertical-align: middle;\n",
       "    }\n",
       "\n",
       "    .dataframe tbody tr th {\n",
       "        vertical-align: top;\n",
       "    }\n",
       "\n",
       "    .dataframe thead th {\n",
       "        text-align: right;\n",
       "    }\n",
       "</style>\n",
       "<table border=\"1\" class=\"dataframe\">\n",
       "  <thead>\n",
       "    <tr style=\"text-align: right;\">\n",
       "      <th></th>\n",
       "      <th>Zap Enter Date</th>\n",
       "      <th>Weight</th>\n",
       "      <th>RAM Capacity</th>\n",
       "      <th>CPU speed</th>\n",
       "      <th>CPU generation</th>\n",
       "      <th>Screen Size</th>\n",
       "      <th>FPS</th>\n",
       "      <th>Touch Screen</th>\n",
       "      <th>Min price</th>\n",
       "      <th>Max price</th>\n",
       "      <th>Page number</th>\n",
       "      <th>Memory type</th>\n",
       "    </tr>\n",
       "  </thead>\n",
       "  <tbody>\n",
       "    <tr>\n",
       "      <th>count</th>\n",
       "      <td>3110.000000</td>\n",
       "      <td>2809.000000</td>\n",
       "      <td>2864.000000</td>\n",
       "      <td>2695.000000</td>\n",
       "      <td>2739.000000</td>\n",
       "      <td>2862.000000</td>\n",
       "      <td>2731.000000</td>\n",
       "      <td>3111.000000</td>\n",
       "      <td>3110.000000</td>\n",
       "      <td>3110.000000</td>\n",
       "      <td>3110.000000</td>\n",
       "      <td>2636.000000</td>\n",
       "    </tr>\n",
       "    <tr>\n",
       "      <th>mean</th>\n",
       "      <td>2021.058199</td>\n",
       "      <td>1.703326</td>\n",
       "      <td>14.337291</td>\n",
       "      <td>2584.537662</td>\n",
       "      <td>10.054399</td>\n",
       "      <td>14.810307</td>\n",
       "      <td>69.856829</td>\n",
       "      <td>0.180328</td>\n",
       "      <td>5465.478778</td>\n",
       "      <td>5864.659486</td>\n",
       "      <td>65.322508</td>\n",
       "      <td>3.995448</td>\n",
       "    </tr>\n",
       "    <tr>\n",
       "      <th>std</th>\n",
       "      <td>0.839762</td>\n",
       "      <td>0.438913</td>\n",
       "      <td>8.047496</td>\n",
       "      <td>681.016020</td>\n",
       "      <td>2.030348</td>\n",
       "      <td>1.107618</td>\n",
       "      <td>34.027327</td>\n",
       "      <td>0.384522</td>\n",
       "      <td>3198.642820</td>\n",
       "      <td>3330.792721</td>\n",
       "      <td>37.441304</td>\n",
       "      <td>0.180601</td>\n",
       "    </tr>\n",
       "    <tr>\n",
       "      <th>min</th>\n",
       "      <td>2017.000000</td>\n",
       "      <td>0.340000</td>\n",
       "      <td>2.000000</td>\n",
       "      <td>933.000000</td>\n",
       "      <td>2.000000</td>\n",
       "      <td>10.300000</td>\n",
       "      <td>60.000000</td>\n",
       "      <td>0.000000</td>\n",
       "      <td>799.000000</td>\n",
       "      <td>889.000000</td>\n",
       "      <td>1.000000</td>\n",
       "      <td>3.000000</td>\n",
       "    </tr>\n",
       "    <tr>\n",
       "      <th>25%</th>\n",
       "      <td>2021.000000</td>\n",
       "      <td>1.400000</td>\n",
       "      <td>8.000000</td>\n",
       "      <td>2400.000000</td>\n",
       "      <td>10.000000</td>\n",
       "      <td>14.000000</td>\n",
       "      <td>60.000000</td>\n",
       "      <td>0.000000</td>\n",
       "      <td>3190.000000</td>\n",
       "      <td>3490.000000</td>\n",
       "      <td>33.000000</td>\n",
       "      <td>4.000000</td>\n",
       "    </tr>\n",
       "    <tr>\n",
       "      <th>50%</th>\n",
       "      <td>2021.000000</td>\n",
       "      <td>1.650000</td>\n",
       "      <td>16.000000</td>\n",
       "      <td>2500.000000</td>\n",
       "      <td>11.000000</td>\n",
       "      <td>15.600000</td>\n",
       "      <td>60.000000</td>\n",
       "      <td>0.000000</td>\n",
       "      <td>4549.000000</td>\n",
       "      <td>4990.000000</td>\n",
       "      <td>65.000000</td>\n",
       "      <td>4.000000</td>\n",
       "    </tr>\n",
       "    <tr>\n",
       "      <th>75%</th>\n",
       "      <td>2022.000000</td>\n",
       "      <td>1.900000</td>\n",
       "      <td>16.000000</td>\n",
       "      <td>2800.000000</td>\n",
       "      <td>11.000000</td>\n",
       "      <td>15.600000</td>\n",
       "      <td>60.000000</td>\n",
       "      <td>0.000000</td>\n",
       "      <td>6893.000000</td>\n",
       "      <td>7369.750000</td>\n",
       "      <td>98.000000</td>\n",
       "      <td>4.000000</td>\n",
       "    </tr>\n",
       "    <tr>\n",
       "      <th>max</th>\n",
       "      <td>2022.000000</td>\n",
       "      <td>4.630000</td>\n",
       "      <td>64.000000</td>\n",
       "      <td>5000.000000</td>\n",
       "      <td>12.000000</td>\n",
       "      <td>17.300000</td>\n",
       "      <td>300.000000</td>\n",
       "      <td>1.000000</td>\n",
       "      <td>25361.000000</td>\n",
       "      <td>25361.000000</td>\n",
       "      <td>130.000000</td>\n",
       "      <td>5.000000</td>\n",
       "    </tr>\n",
       "  </tbody>\n",
       "</table>\n",
       "</div>"
      ],
      "text/plain": [
       "       Zap Enter Date       Weight  RAM Capacity    CPU speed  CPU generation  \\\n",
       "count     3110.000000  2809.000000   2864.000000  2695.000000     2739.000000   \n",
       "mean      2021.058199     1.703326     14.337291  2584.537662       10.054399   \n",
       "std          0.839762     0.438913      8.047496   681.016020        2.030348   \n",
       "min       2017.000000     0.340000      2.000000   933.000000        2.000000   \n",
       "25%       2021.000000     1.400000      8.000000  2400.000000       10.000000   \n",
       "50%       2021.000000     1.650000     16.000000  2500.000000       11.000000   \n",
       "75%       2022.000000     1.900000     16.000000  2800.000000       11.000000   \n",
       "max       2022.000000     4.630000     64.000000  5000.000000       12.000000   \n",
       "\n",
       "       Screen Size          FPS  Touch Screen     Min price     Max price  \\\n",
       "count  2862.000000  2731.000000   3111.000000   3110.000000   3110.000000   \n",
       "mean     14.810307    69.856829      0.180328   5465.478778   5864.659486   \n",
       "std       1.107618    34.027327      0.384522   3198.642820   3330.792721   \n",
       "min      10.300000    60.000000      0.000000    799.000000    889.000000   \n",
       "25%      14.000000    60.000000      0.000000   3190.000000   3490.000000   \n",
       "50%      15.600000    60.000000      0.000000   4549.000000   4990.000000   \n",
       "75%      15.600000    60.000000      0.000000   6893.000000   7369.750000   \n",
       "max      17.300000   300.000000      1.000000  25361.000000  25361.000000   \n",
       "\n",
       "       Page number  Memory type  \n",
       "count  3110.000000  2636.000000  \n",
       "mean     65.322508     3.995448  \n",
       "std      37.441304     0.180601  \n",
       "min       1.000000     3.000000  \n",
       "25%      33.000000     4.000000  \n",
       "50%      65.000000     4.000000  \n",
       "75%      98.000000     4.000000  \n",
       "max     130.000000     5.000000  "
      ]
     },
     "execution_count": 601,
     "metadata": {},
     "output_type": "execute_result"
    }
   ],
   "source": [
    "laptops_no_dup.describe()"
   ]
  },
  {
   "cell_type": "markdown",
   "metadata": {},
   "source": [
    "<p>\n",
    "it looks like the following coulmns are lacking in data:\n",
    "<ul>\n",
    "<strong>\n",
    "<li>CPU model</li>\n",
    "<li>Gaming compability</li>\n",
    "<li>CPU generation</li>\n",
    "<li>GPU</li>\n",
    "<li>CPU speed</li>\n",
    "<li>Memory type</li>\n",
    "</strong>\n",
    "</ul>\n",
    "\n",
    "</p>"
   ]
  },
  {
   "cell_type": "markdown",
   "metadata": {},
   "source": [
    "<a id='none_values'></a>\n",
    "<p>\n",
    "    Let's check how many total books are there without any NA values:\n",
    "</p>    "
   ]
  },
  {
   "cell_type": "code",
   "execution_count": 602,
   "metadata": {},
   "outputs": [
    {
     "name": "stdout",
     "output_type": "stream",
     "text": [
      "<class 'pandas.core.frame.DataFrame'>\n",
      "Int64Index: 1905 entries, 3 to 3111\n",
      "Data columns (total 30 columns):\n",
      " #   Column               Non-Null Count  Dtype  \n",
      "---  ------               --------------  -----  \n",
      " 0   Brand                1905 non-null   object \n",
      " 1   Zap Enter Date       1905 non-null   float64\n",
      " 2   Gaming Compability   1905 non-null   object \n",
      " 3   Operating System     1905 non-null   object \n",
      " 4   Two in One           1905 non-null   object \n",
      " 5   Weight               1905 non-null   float64\n",
      " 6   Series               1905 non-null   object \n",
      " 7   CPU type             1905 non-null   object \n",
      " 8   RAM Capacity         1905 non-null   float64\n",
      " 9   CPU speed            1905 non-null   float64\n",
      " 10  CPU model            1905 non-null   object \n",
      " 11  CPU generation       1905 non-null   float64\n",
      " 12  Hard drive capacity  1905 non-null   object \n",
      " 13  Hard drive Type      1905 non-null   object \n",
      " 14  Optical Drive        1905 non-null   object \n",
      " 15  Screen Size          1905 non-null   float64\n",
      " 16  Screen Resolution    1905 non-null   object \n",
      " 17  Screen Type          1905 non-null   object \n",
      " 18  FPS                  1905 non-null   float64\n",
      " 19  Touch Screen         1905 non-null   int32  \n",
      " 20  GPU                  1905 non-null   object \n",
      " 21  Web camera           1905 non-null   object \n",
      " 22  Secutiry             1905 non-null   object \n",
      " 23  Connectors           1905 non-null   object \n",
      " 24  Wifi modal           1905 non-null   object \n",
      " 25  Cellular modem       1905 non-null   object \n",
      " 26  Min price            1905 non-null   float64\n",
      " 27  Max price            1905 non-null   float64\n",
      " 28  Page number          1905 non-null   float64\n",
      " 29  Memory type          1905 non-null   float64\n",
      "dtypes: float64(11), int32(1), object(18)\n",
      "memory usage: 453.9+ KB\n"
     ]
    }
   ],
   "source": [
    "laptops_no_dup.dropna(how='any').info() "
   ]
  },
  {
   "cell_type": "markdown",
   "metadata": {},
   "source": [
    "<p>Almost a third missing! thats not good...</p>\n",
    "<p>First, by looking at the data it seems like <strong>Gaming compability</strong> and <strong>CPU model</strong> are unnecessary. so, we would like to remove them:</p>"
   ]
  },
  {
   "cell_type": "code",
   "execution_count": 603,
   "metadata": {},
   "outputs": [
    {
     "name": "stdout",
     "output_type": "stream",
     "text": [
      "<class 'pandas.core.frame.DataFrame'>\n",
      "Int64Index: 2158 entries, 3 to 3111\n",
      "Data columns (total 28 columns):\n",
      " #   Column               Non-Null Count  Dtype  \n",
      "---  ------               --------------  -----  \n",
      " 0   Brand                2158 non-null   object \n",
      " 1   Zap Enter Date       2158 non-null   float64\n",
      " 2   Operating System     2158 non-null   object \n",
      " 3   Two in One           2158 non-null   object \n",
      " 4   Weight               2158 non-null   float64\n",
      " 5   Series               2158 non-null   object \n",
      " 6   CPU type             2158 non-null   object \n",
      " 7   RAM Capacity         2158 non-null   float64\n",
      " 8   CPU speed            2158 non-null   float64\n",
      " 9   CPU generation       2158 non-null   float64\n",
      " 10  Hard drive capacity  2158 non-null   object \n",
      " 11  Hard drive Type      2158 non-null   object \n",
      " 12  Optical Drive        2158 non-null   object \n",
      " 13  Screen Size          2158 non-null   float64\n",
      " 14  Screen Resolution    2158 non-null   object \n",
      " 15  Screen Type          2158 non-null   object \n",
      " 16  FPS                  2158 non-null   float64\n",
      " 17  Touch Screen         2158 non-null   int32  \n",
      " 18  GPU                  2158 non-null   object \n",
      " 19  Web camera           2158 non-null   object \n",
      " 20  Secutiry             2158 non-null   object \n",
      " 21  Connectors           2158 non-null   object \n",
      " 22  Wifi modal           2158 non-null   object \n",
      " 23  Cellular modem       2158 non-null   object \n",
      " 24  Min price            2158 non-null   float64\n",
      " 25  Max price            2158 non-null   float64\n",
      " 26  Page number          2158 non-null   float64\n",
      " 27  Memory type          2158 non-null   float64\n",
      "dtypes: float64(11), int32(1), object(16)\n",
      "memory usage: 480.5+ KB\n"
     ]
    }
   ],
   "source": [
    "laptops_no_dup = laptops_no_dup.drop([\"CPU model\",\"Gaming Compability\" ] , axis = 1) \n",
    "laptops_no_dup.dropna(how='any').info()\n"
   ]
  },
  {
   "cell_type": "markdown",
   "metadata": {},
   "source": [
    "<p>Not a big improvement... lets try filling-in the rest:</p>\n"
   ]
  },
  {
   "cell_type": "markdown",
   "metadata": {},
   "source": [
    "<h3>First, lets try filling-in <strong>CPU generation</strong>:</h3>\n",
    "<h4>Mean or Median?</h4>\n",
    "<p>\n",
    "    In order to decide in which metric to replace <strong>CPU generation</strong> (mean/median) we want to replace NA values we wanted to base our decision over the distribution of the metric.\n",
    "</p>"
   ]
  },
  {
   "cell_type": "code",
   "execution_count": 604,
   "metadata": {},
   "outputs": [
    {
     "name": "stdout",
     "output_type": "stream",
     "text": [
      "2.0\n",
      "12.0\n"
     ]
    },
    {
     "data": {
      "image/png": "[encoded data removed]",
      "text/plain": [
       "<Figure size 432x288 with 1 Axes>"
      ]
     },
     "metadata": {
      "needs_background": "light"
     },
     "output_type": "display_data"
    }
   ],
   "source": [
    "print(laptops_no_dup['CPU generation'].min())\n",
    "print(laptops_no_dup['CPU generation'].max())\n",
    "\n",
    "sns.histplot(laptops_no_dup['CPU generation'])\n",
    "plt.show()"
   ]
  },
  {
   "cell_type": "markdown",
   "metadata": {},
   "source": [
    "<p>it seems like 11 is the right choice to fill-in the NA's so we'll go with that</p>"
   ]
  },
  {
   "cell_type": "code",
   "execution_count": 605,
   "metadata": {},
   "outputs": [],
   "source": [
    "most_freq_CPU_generation = laptops_no_dup['CPU generation'].mode()[0]\n",
    "laptops_no_dup['CPU generation'] = laptops_no_dup['CPU generation'].fillna(most_freq_CPU_generation)\n"
   ]
  },
  {
   "cell_type": "markdown",
   "metadata": {},
   "source": [
    "<h3>Lets do the same for <strong>CPU speed</strong>:</h3>\n"
   ]
  },
  {
   "cell_type": "code",
   "execution_count": 606,
   "metadata": {},
   "outputs": [
    {
     "name": "stdout",
     "output_type": "stream",
     "text": [
      "933.0\n",
      "5000.0\n"
     ]
    },
    {
     "data": {
      "image/png": "[encoded data removed]",
      "text/plain": [
       "<Figure size 432x288 with 1 Axes>"
      ]
     },
     "metadata": {
      "needs_background": "light"
     },
     "output_type": "display_data"
    }
   ],
   "source": [
    "print(laptops_no_dup['CPU speed'].min())\n",
    "print(laptops_no_dup['CPU speed'].max())\n",
    "\n",
    "sns.histplot(laptops_no_dup['CPU speed'])\n",
    "plt.show()"
   ]
  },
  {
   "cell_type": "markdown",
   "metadata": {},
   "source": [
    "<p>\n",
    "As can be seen, the distribution can show us that there are not so many outliers.\n",
    "So we are going to use mean.\n",
    "</p>"
   ]
  },
  {
   "cell_type": "code",
   "execution_count": 607,
   "metadata": {},
   "outputs": [],
   "source": [
    "cpu_speed_mean = laptops_no_dup['CPU speed'].mean()\n",
    "\n",
    "laptops_no_dup['CPU speed'] = np.where(\n",
    "    laptops_no_dup['CPU speed'].isnull(),\n",
    "    cpu_speed_mean,\n",
    "    laptops_no_dup['CPU speed']\n",
    ")\n"
   ]
  },
  {
   "cell_type": "markdown",
   "metadata": {},
   "source": [
    "<h3>Now, lets try filling-in <strong>GPU</strong> and <strong>Memory type</strong>:</h3>\n",
    "<p>\n",
    "  GPU and Memory type are string values, so we'll do the same for them:\n",
    "</p>"
   ]
  },
  {
   "cell_type": "code",
   "execution_count": 608,
   "metadata": {},
   "outputs": [],
   "source": [
    "most_freq_GPU = laptops_no_dup['GPU'].mode()[0]\n",
    "laptops_no_dup['GPU'] = laptops_no_dup['GPU'].fillna(most_freq_GPU)\n",
    "\n",
    "most_freq_memory_type = laptops_no_dup['Memory type'].mode()[0]\n",
    "laptops_no_dup['Memory type'] = laptops_no_dup['Memory type'].fillna(most_freq_memory_type)\n"
   ]
  },
  {
   "cell_type": "markdown",
   "metadata": {},
   "source": [
    "<p>lets see how that went for us:</p>"
   ]
  },
  {
   "cell_type": "code",
   "execution_count": 609,
   "metadata": {},
   "outputs": [
    {
     "name": "stdout",
     "output_type": "stream",
     "text": [
      "<class 'pandas.core.frame.DataFrame'>\n",
      "Int64Index: 2428 entries, 0 to 3111\n",
      "Data columns (total 28 columns):\n",
      " #   Column               Non-Null Count  Dtype  \n",
      "---  ------               --------------  -----  \n",
      " 0   Brand                2428 non-null   object \n",
      " 1   Zap Enter Date       2428 non-null   float64\n",
      " 2   Operating System     2428 non-null   object \n",
      " 3   Two in One           2428 non-null   object \n",
      " 4   Weight               2428 non-null   float64\n",
      " 5   Series               2428 non-null   object \n",
      " 6   CPU type             2428 non-null   object \n",
      " 7   RAM Capacity         2428 non-null   float64\n",
      " 8   CPU speed            2428 non-null   float64\n",
      " 9   CPU generation       2428 non-null   float64\n",
      " 10  Hard drive capacity  2428 non-null   object \n",
      " 11  Hard drive Type      2428 non-null   object \n",
      " 12  Optical Drive        2428 non-null   object \n",
      " 13  Screen Size          2428 non-null   float64\n",
      " 14  Screen Resolution    2428 non-null   object \n",
      " 15  Screen Type          2428 non-null   object \n",
      " 16  FPS                  2428 non-null   float64\n",
      " 17  Touch Screen         2428 non-null   int32  \n",
      " 18  GPU                  2428 non-null   object \n",
      " 19  Web camera           2428 non-null   object \n",
      " 20  Secutiry             2428 non-null   object \n",
      " 21  Connectors           2428 non-null   object \n",
      " 22  Wifi modal           2428 non-null   object \n",
      " 23  Cellular modem       2428 non-null   object \n",
      " 24  Min price            2428 non-null   float64\n",
      " 25  Max price            2428 non-null   float64\n",
      " 26  Page number          2428 non-null   float64\n",
      " 27  Memory type          2428 non-null   float64\n",
      "dtypes: float64(11), int32(1), object(16)\n",
      "memory usage: 540.6+ KB\n"
     ]
    }
   ],
   "source": [
    "laptops_no_dup.dropna(how='any').info() "
   ]
  },
  {
   "cell_type": "code",
   "execution_count": 610,
   "metadata": {},
   "outputs": [],
   "source": [
    "laptop_eda = laptops_no_dup.copy().dropna(how='any') "
   ]
  },
  {
   "cell_type": "markdown",
   "metadata": {},
   "source": [
    "<p>we saved 500 rows! what a success!</p>\n"
   ]
  },
  {
   "cell_type": "markdown",
   "metadata": {},
   "source": [
    "<h3>Min price, Max price to just Price!</h3>\n",
    "<p>\n",
    "    currently, Zap provided us with <strong>Min Price</strong> and <strong>Max Price</strong><br>\n",
    "    but for our predictions we will need only <strong>Price</strong>.\n",
    "</p>"
   ]
  },
  {
   "cell_type": "code",
   "execution_count": 611,
   "metadata": {},
   "outputs": [],
   "source": [
    "laptop_eda['Price'] = (laptop_eda['Max price'] + laptop_eda['Min price'])/2\n",
    "laptop_eda['Price'] = (laptop_eda['Price'] - laptop_eda['Price'].min()) / (laptop_eda['Price'].max() - laptop_eda['Price'].min())\n",
    "laptop_eda = laptop_eda.drop([\"Max price\" , \"Min price\" ] , axis = 1) "
   ]
  },
  {
   "cell_type": "markdown",
   "metadata": {},
   "source": [
    "<h1>EDA</h1>"
   ]
  },
  {
   "cell_type": "markdown",
   "metadata": {},
   "source": [
    "<p>\n",
    "    <ul>\n",
    "        <li>create_heatmap - a function made in order to create and display a heatmap.</li>"
   ]
  },
  {
   "cell_type": "code",
   "execution_count": 624,
   "metadata": {},
   "outputs": [],
   "source": [
    "def create_heatmap(numeric_df):\n",
    "    first_col = numeric_df.pop('Price')\n",
    "    numeric_df.insert(0, 'Price', first_col)\n",
    "    sns.heatmap(numeric_df.corr())"
   ]
  },
  {
   "cell_type": "markdown",
   "metadata": {},
   "source": [
    "<a id='brands_distribution'></a>\n",
    "<h3>Numeric fields Correlation to Price</h3>\n",
    "<p>We would like now to create a heatmap in order to check the correlation of the numeric values on the price:</p>"
   ]
  },
  {
   "cell_type": "code",
   "execution_count": 625,
   "metadata": {},
   "outputs": [
    {
     "data": {
      "image/png": "[encoded data removed]",
      "text/plain": [
       "<Figure size 432x288 with 2 Axes>"
      ]
     },
     "metadata": {
      "needs_background": "light"
     },
     "output_type": "display_data"
    }
   ],
   "source": [
    "laptops_for_heatmap = laptop_eda.select_dtypes(include='number')\n",
    "create_heatmap(laptops_for_heatmap)"
   ]
  },
  {
   "cell_type": "markdown",
   "metadata": {},
   "source": [
    "<p>As we can see, the numeric values alone won't help us in our research. but, it seems like we should look into <strong>Ram capacity</strong> and <strong>Page Number</strong>.</p>"
   ]
  },
  {
   "cell_type": "markdown",
   "metadata": {},
   "source": [
    "<a id='brands_distribution'></a>\n",
    "<h3>Ram Capacity distribution</h3>"
   ]
  },
  {
   "cell_type": "code",
   "execution_count": 626,
   "metadata": {},
   "outputs": [
    {
     "data": {
      "image/png": "[encoded data removed]",
      "text/plain": [
       "<Figure size 1296x288 with 1 Axes>"
      ]
     },
     "metadata": {
      "needs_background": "light"
     },
     "output_type": "display_data"
    }
   ],
   "source": [
    "fig, ax = plt.subplots(figsize=(18, 4))\n",
    "fg = sns.histplot(laptop_eda['RAM Capacity'], ax=ax)\n",
    "fg.set_title(\"RAM Capacities Histogram\")\n",
    "fg.set_xlabel(\"RAM Capacity\")\n",
    "plt.xticks(rotation=90, ha='right', rotation_mode='anchor')\n",
    "plt.show()"
   ]
  },
  {
   "cell_type": "markdown",
   "metadata": {},
   "source": [
    "<p>it seems that most laptops use 8 or 16 GB of RAM.</p>"
   ]
  },
  {
   "cell_type": "code",
   "execution_count": 629,
   "metadata": {},
   "outputs": [
    {
     "data": {
      "image/png": "[encoded data removed]",
      "text/plain": [
       "<Figure size 432x360 with 1 Axes>"
      ]
     },
     "metadata": {},
     "output_type": "display_data"
    }
   ],
   "source": [
    "ram_capacity_counts = laptop_eda['RAM Capacity'].value_counts()\n",
    "laptops_price_mean_by_ram_capacity = laptop_eda.groupby('RAM Capacity', as_index=False)['Price'].mean()\n",
    "laptops_price_mean_by_ram_capacity.sort_values(by=\"Price\", inplace=True, ascending=False)\n",
    "\n",
    "labels = [\"RAM Capacity: %s\" % i for i in ram_capacity_counts.index]\n",
    "\n",
    "fig1, ax1 = plt.subplots(figsize=(6, 5))\n",
    "fig1.subplots_adjust(0.3,0,1,1)\n",
    "\n",
    "_, _ = ax1.pie(laptops_price_mean_by_ram_capacity['Price'].tolist(), startangle=90)\n",
    "\n",
    "ax1.axis('equal')\n",
    "\n",
    "plt.legend(\n",
    "    loc='upper left',\n",
    "    labels=['%s, average=%1.1f' % (\n",
    "        l, (v)) for l, s, v in zip(labels, laptops_price_mean_by_ram_capacity.index, laptops_price_mean_by_ram_capacity['Price'].tolist())],\n",
    "    prop={'size': 11},\n",
    "    bbox_to_anchor=(0.0, 1),\n",
    "    bbox_transform=fig1.transFigure\n",
    ")\n",
    "\n",
    "plt.show()"
   ]
  },
  {
   "cell_type": "markdown",
   "metadata": {},
   "source": [
    "<p>We can learn from this graph that high priced laptops use 8 and 16 GB RAM. due to their distrabution we assume it's because of their populatiry</p>"
   ]
  },
  {
   "cell_type": "code",
   "execution_count": null,
   "metadata": {},
   "outputs": [],
   "source": [
    "data = [44, 45, 40, 41, 39]\n",
    "keys = ['Class 1', 'Class 2', 'CLass 3', 'Class 4', 'Class 5']\n",
    "  \n",
    "# define Seaborn color palette to use\n",
    "palette_color = seaborn.color_palette('bright')\n",
    "  \n",
    "# plotting data on chart\n",
    "plt.pie(data, labels=keys, colors=palette_color, autopct='%.0f%%')\n",
    "  \n",
    "# displaying chart\n",
    "plt.show()"
   ]
  },
  {
   "cell_type": "markdown",
   "metadata": {},
   "source": [
    "<a id='brands_distribution'></a>\n",
    "<h3>Brands distribution</h3>"
   ]
  },
  {
   "cell_type": "code",
   "execution_count": 612,
   "metadata": {},
   "outputs": [
    {
     "data": {
      "image/png": "[encoded data removed]",
      "text/plain": [
       "<Figure size 1440x432 with 2 Axes>"
      ]
     },
     "metadata": {
      "needs_background": "light"
     },
     "output_type": "display_data"
    }
   ],
   "source": [
    "\n",
    "fig = plt.figure(figsize=(20, 6)) \n",
    "gs = gridspec.GridSpec(1, 2, width_ratios=[3.5, 2.5]) \n",
    "ax1 = plt.subplot(gs[0])\n",
    "ax2 = plt.subplot(gs[1])\n",
    "\n",
    "\n",
    "#histogram:\n",
    "fg = sns.histplot(laptop_eda['Brand'], ax=ax1)\n",
    "fg.set_title(\"Brands Histogram\")\n",
    "fg.set_xlabel(\"Brand\")\n",
    "plt.xticks(rotation=90, ha='right', rotation_mode='anchor')\n",
    "\n",
    "laptopts_by_brand_count = laptop_eda['Brand'].value_counts()\n",
    "\n",
    "total_laptops = laptop_eda.shape[0]\n",
    "\n",
    "labels = [\"Brand: %s\" % i for i in laptopts_by_brand_count.index]\n",
    "\n",
    "#pie chart:\n",
    "_, _ = ax2.pie(laptopts_by_brand_count.values, startangle=90)\n",
    "\n",
    "ax2.axis('equal')\n",
    "\n",
    "plt.legend(\n",
    "    loc='upper left',\n",
    "    labels=['%s, %1.1f%%' % (\n",
    "        l, (v / total_laptops * 100)) for l, s, v in zip(labels, laptopts_by_brand_count.index, laptopts_by_brand_count.values)],\n",
    "    prop={'size': 11},\n",
    "    bbox_to_anchor=(0.0, 1),\n",
    "    # bbox_transform=fig1.transFigure\n",
    ")\n",
    "plt.show()"
   ]
  },
  {
   "cell_type": "markdown",
   "metadata": {},
   "source": [
    "<p>as can be seen, Lenovo, Asus, Dell and HP are the largest \"players\" in the market. and Apple and Acer also take a small portion of the market</p><br>\n",
    "<p>this also checks out with a simple google search:</p>"
   ]
  },
  {
   "cell_type": "markdown",
   "metadata": {},
   "source": [
    "<img width=\"50%\" height=\"50%\" style=\"margin-right:5px\" src=\"images/laptop_market_share_1.png\"/><img src=\"images/laptop_market_share_2.png\"/>"
   ]
  },
  {
   "cell_type": "markdown",
   "metadata": {},
   "source": [
    "<a id='mean_price_by_brand_'></a>\n",
    "\n",
    "<h3>Mean price by brand</h3>"
   ]
  },
  {
   "cell_type": "code",
   "execution_count": 613,
   "metadata": {},
   "outputs": [
    {
     "data": {
      "image/png": "[encoded data removed]",
      "text/plain": [
       "<Figure size 432x360 with 1 Axes>"
      ]
     },
     "metadata": {},
     "output_type": "display_data"
    }
   ],
   "source": [
    "laptops_price_mean_by_brand = laptop_eda.groupby('Brand', as_index=False)['Price'].mean()\n",
    "laptops_price_mean_by_brand.sort_values(by=\"Price\", inplace=True, ascending=False)\n",
    "\n",
    "labels = [\"Brand: %s\" % i for i in laptopts_by_brand_count.index]\n",
    "\n",
    "fig1, ax1 = plt.subplots(figsize=(6, 5))\n",
    "fig1.subplots_adjust(0.3,0,1,1)\n",
    "\n",
    "_, _ = ax1.pie(laptops_price_mean_by_brand['Price'].tolist(), startangle=90)\n",
    "\n",
    "ax1.axis('equal')\n",
    "\n",
    "plt.legend(\n",
    "    loc='upper left',\n",
    "    labels=['%s, average=%1.1f' % (\n",
    "        l, (v)) for l, s, v in zip(labels, laptops_price_mean_by_brand.index, laptops_price_mean_by_brand['Price'].tolist())],\n",
    "    prop={'size': 11},\n",
    "    bbox_to_anchor=(0.0, 1),\n",
    "    bbox_transform=fig1.transFigure\n",
    ")\n",
    "\n",
    "plt.show()\n"
   ]
  },
  {
   "cell_type": "markdown",
   "metadata": {},
   "source": [
    "<a id='genre_distribution'></a>\n",
    "<h3>Screen size distribution</h3>"
   ]
  },
  {
   "cell_type": "code",
   "execution_count": 614,
   "metadata": {},
   "outputs": [
    {
     "data": {
      "image/png": "[encoded data removed]",
      "text/plain": [
       "<Figure size 1296x288 with 1 Axes>"
      ]
     },
     "metadata": {
      "needs_background": "light"
     },
     "output_type": "display_data"
    }
   ],
   "source": [
    "fig, ax = plt.subplots(figsize=(18, 4))\n",
    "fg = sns.histplot(laptop_eda['Screen Size'], ax=ax)\n",
    "fg.set_title(\"Screen sizes Histogram\")\n",
    "fg.set_xlabel(\"Screen Size\")\n",
    "plt.xticks(rotation=90, ha='right', rotation_mode='anchor')\n",
    "plt.show()"
   ]
  },
  {
   "cell_type": "markdown",
   "metadata": {},
   "source": [
    "<p>It's easy to see that 15.6 inches and 14 inches make most of the market. next, we'll check if screen size affects the price.</p>"
   ]
  },
  {
   "cell_type": "markdown",
   "metadata": {},
   "source": [
    "<a id='mean_price_by_brand_'></a>\n",
    "\n",
    "<h3>Mean price by screen size</h3>"
   ]
  },
  {
   "cell_type": "code",
   "execution_count": 615,
   "metadata": {},
   "outputs": [
    {
     "data": {
      "image/png": "[encoded data removed]",
      "text/plain": [
       "<Figure size 432x360 with 1 Axes>"
      ]
     },
     "metadata": {},
     "output_type": "display_data"
    }
   ],
   "source": [
    "laptopts_by_screen_size_count = laptop_eda['Screen Size'].value_counts()\n",
    "\n",
    "laptops_price_mean_by_screen_size = laptop_eda.groupby('Screen Size', as_index=False)['Price'].mean()\n",
    "laptops_price_mean_by_screen_size.sort_values(by=\"Price\", inplace=True, ascending=False)\n",
    "\n",
    "labels = [\"Screen Size: %s\" % i for i in laptopts_by_screen_size_count.index]\n",
    "\n",
    "fig1, ax1 = plt.subplots(figsize=(6, 5))\n",
    "fig1.subplots_adjust(0.3,0,1,1)\n",
    "\n",
    "_, _ = ax1.pie(laptops_price_mean_by_screen_size['Price'].tolist(), startangle=90)\n",
    "\n",
    "ax1.axis('equal')\n",
    "\n",
    "plt.legend(\n",
    "    loc='upper left',\n",
    "    labels=['%s, average=%1.1f' % (\n",
    "        l, (v)) for l, s, v in zip(labels, laptops_price_mean_by_screen_size.index, laptops_price_mean_by_screen_size['Price'].tolist())],\n",
    "    prop={'size': 11},\n",
    "    bbox_to_anchor=(0.0, 1),\n",
    "    bbox_transform=fig1.transFigure\n",
    ")\n",
    "\n",
    "plt.show()\n"
   ]
  },
  {
   "cell_type": "markdown",
   "metadata": {},
   "source": [
    "<p>It seems that the screen size does affect the price, but considering that 15.5 and 14 inches make most of the market it's not suprising.</p>"
   ]
  },
  {
   "cell_type": "markdown",
   "metadata": {},
   "source": [
    "<a id='machine_learning_prep'></a>\n",
    "<h1>Machine Learning</h1>"
   ]
  },
  {
   "cell_type": "code",
   "execution_count": 630,
   "metadata": {},
   "outputs": [],
   "source": [
    "def train_1st_model(X_train, y_train):\n",
    "    reg = LinearRegression(fit_intercept = False)\n",
    "    return reg.fit(X_train,y_train)"
   ]
  },
  {
   "cell_type": "code",
   "execution_count": 631,
   "metadata": {},
   "outputs": [],
   "source": [
    "def predict_1st(trained_1st_model, X_test):\n",
    "    return trained_1st_model.predict(X_test)"
   ]
  },
  {
   "cell_type": "code",
   "execution_count": 632,
   "metadata": {},
   "outputs": [],
   "source": [
    "def evaluate_performance_1st(y_test,y_predicted):\n",
    "    return metrics.r2_score(y_test,y_predicted)"
   ]
  },
  {
   "cell_type": "code",
   "execution_count": 633,
   "metadata": {},
   "outputs": [],
   "source": [
    "def load_dataset(df, target_column):\n",
    "    return df.drop([target_column],axis = 1),df[target_column]"
   ]
  },
  {
   "cell_type": "code",
   "execution_count": 638,
   "metadata": {},
   "outputs": [],
   "source": [
    "def predict(df):\n",
    "    numeric_df = df.select_dtypes(include='number')\n",
    "    X_1st_train, y_1st_train = load_dataset(numeric_df,'Price')\n",
    "    X_1st_test, y_1st_test = load_dataset(numeric_df, 'Price')\n",
    "    trained_model_1st = train_1st_model(X_1st_train, y_1st_train)\n",
    "    pred_1st_vals = predict_1st(trained_model_1st, X_1st_test)\n",
    "    y_pred_1st= pd.Series(pred_1st_vals,index=X_1st_test.index)\n",
    "    eval_res_1st = evaluate_performance_1st(y_1st_test, y_pred_1st)\n",
    "    return eval_res_1st"
   ]
  },
  {
   "cell_type": "code",
   "execution_count": 639,
   "metadata": {},
   "outputs": [
    {
     "name": "stdout",
     "output_type": "stream",
     "text": [
      "prediction: 0.7127942295068155\n"
     ]
    }
   ],
   "source": [
    "before = laptop_eda.copy()\n",
    "print('prediction:', predict(before))"
   ]
  }
 ],
 "metadata": {
  "kernelspec": {
   "display_name": "Python 3.9.0 64-bit",
   "language": "python",
   "name": "python3"
  },
  "language_info": {
   "codemirror_mode": {
    "name": "ipython",
    "version": 3
   },
   "file_extension": ".py",
   "mimetype": "text/x-python",
   "name": "python",
   "nbconvert_exporter": "python",
   "pygments_lexer": "ipython3",
   "version": "3.9.0"
  },
  "orig_nbformat": 4,
  "vscode": {
   "interpreter": {
    "hash": "81794d4967e6c3204c66dcd87b604927b115b27c00565d3d43f05ba2f3a2cb0d"
   }
  }
 },
 "nbformat": 4,
 "nbformat_minor": 2
}
